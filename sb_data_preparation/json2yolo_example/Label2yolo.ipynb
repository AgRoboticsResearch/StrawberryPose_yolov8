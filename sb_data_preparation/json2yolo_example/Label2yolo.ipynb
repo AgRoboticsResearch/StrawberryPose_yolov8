{
 "cells": [
  {
   "cell_type": "markdown",
   "id": "06e5af38-85ad-46b6-a5ea-52a7ff947853",
   "metadata": {},
   "source": [
    "# Label2YOLO\n",
    "modify from TommyZihao\n"
   ]
  },
  {
   "cell_type": "code",
   "execution_count": 14,
   "id": "5969d148-19e6-4b2e-9797-01105b87b56c",
   "metadata": {},
   "outputs": [],
   "source": [
    "import os\n",
    "import json\n",
    "import shutil\n",
    "import numpy as np\n",
    "# from tqdm import tqdm"
   ]
  },
  {
   "cell_type": "code",
   "execution_count": 15,
   "id": "30a7e9be-197e-4a5a-af0b-c54226edf48d",
   "metadata": {},
   "outputs": [],
   "source": [
    "Dataset_root = '/mnt/TempData/brl/pangolin/ruichen/sb_pose_detection/datasets/V4_my'\n",
    "# 框的类别\n",
    "bbox_class = {\n",
    "    'sb':0\n",
    "}\n",
    "# 关键点的类别\n",
    "keypoint_class = ['1', '2', '3', '4', '5']"
   ]
  },
  {
   "cell_type": "code",
   "execution_count": 18,
   "id": "0dd3df94-953b-4025-9965-1a749fcbb83b",
   "metadata": {},
   "outputs": [],
   "source": [
    "os.chdir(Dataset_root)"
   ]
  },
  {
   "cell_type": "markdown",
   "id": "404c8abc-20d7-491c-a24c-c74d790f56c5",
   "metadata": {},
   "source": [
    "## 函数-处理单个labelme标注json文件"
   ]
  },
  {
   "cell_type": "code",
   "execution_count": 20,
   "id": "690e23e1-f2c6-42ae-8075-32f4f30394d5",
   "metadata": {},
   "outputs": [],
   "source": [
    "def process_single_json(labelme_path, save_folder='../../labels'):\n",
    "    \n",
    "    with open(labelme_path, 'r', encoding='utf-8') as f:\n",
    "        labelme = json.load(f)\n",
    "\n",
    "    img_width = labelme['imageWidth']   # 图像宽度\n",
    "    img_height = labelme['imageHeight'] # 图像高度\n",
    "\n",
    "    # 生成 YOLO 格式的 txt 文件\n",
    "    suffix = labelme_path.split('.')[-2]\n",
    "    yolo_txt_path = suffix + '.txt'\n",
    "\n",
    "    with open(yolo_txt_path, 'w', encoding='utf-8') as f:\n",
    "\n",
    "        for each_ann in labelme['shapes']: # 遍历每个标注\n",
    "\n",
    "            if each_ann['shape_type'] == 'rectangle': # 每个框，在 txt 里写一行\n",
    "\n",
    "                yolo_str = ''\n",
    "\n",
    "                ## 框的信息\n",
    "                # 框的类别 ID\n",
    "                bbox_class_id = bbox_class[each_ann['label']]\n",
    "                yolo_str += '{} '.format(bbox_class_id)\n",
    "                # 左上角和右下角的 XY 像素坐标\n",
    "                bbox_top_left_x = int(min(each_ann['points'][0][0], each_ann['points'][1][0]))\n",
    "                bbox_bottom_right_x = int(max(each_ann['points'][0][0], each_ann['points'][1][0]))\n",
    "                bbox_top_left_y = int(min(each_ann['points'][0][1], each_ann['points'][1][1]))\n",
    "                bbox_bottom_right_y = int(max(each_ann['points'][0][1], each_ann['points'][1][1]))\n",
    "                # 框中心点的 XY 像素坐标\n",
    "                bbox_center_x = int((bbox_top_left_x + bbox_bottom_right_x) / 2)\n",
    "                bbox_center_y = int((bbox_top_left_y + bbox_bottom_right_y) / 2)\n",
    "                # 框宽度\n",
    "                bbox_width = bbox_bottom_right_x - bbox_top_left_x\n",
    "                # 框高度\n",
    "                bbox_height = bbox_bottom_right_y - bbox_top_left_y\n",
    "                # 框中心点归一化坐标\n",
    "                bbox_center_x_norm = bbox_center_x / img_width\n",
    "                bbox_center_y_norm = bbox_center_y / img_height\n",
    "                # 框归一化宽度\n",
    "                bbox_width_norm = bbox_width / img_width\n",
    "                # 框归一化高度\n",
    "                bbox_height_norm = bbox_height / img_height\n",
    "\n",
    "                yolo_str += '{:.5f} {:.5f} {:.5f} {:.5f} '.format(bbox_center_x_norm, bbox_center_y_norm, bbox_width_norm, bbox_height_norm)\n",
    "\n",
    "                ## 找到该框中所有关键点，存在字典 bbox_keypoints_dict 中\n",
    "                bbox_keypoints_dict = {}\n",
    "                for each_ann in labelme['shapes']: # 遍历所有标注\n",
    "                    if each_ann['shape_type'] == 'point': # 筛选出关键点标注\n",
    "                        # 关键点XY坐标、类别\n",
    "                        x = int(each_ann['points'][0][0])\n",
    "                        y = int(each_ann['points'][0][1])\n",
    "                        label = each_ann['label']\n",
    "                        if (x>bbox_top_left_x) & (x<bbox_bottom_right_x) & (y<bbox_bottom_right_y) & (y>bbox_top_left_y): # 筛选出在该个体框中的关键点\n",
    "                            bbox_keypoints_dict[label] = [x, y]\n",
    "\n",
    "                ## 把关键点按顺序排好\n",
    "                for each_class in keypoint_class: # 遍历每一类关键点\n",
    "                    if each_class in bbox_keypoints_dict:\n",
    "                        keypoint_x_norm = bbox_keypoints_dict[each_class][0] / img_width\n",
    "                        keypoint_y_norm = bbox_keypoints_dict[each_class][1] / img_height\n",
    "                        yolo_str += '{:.5f} {:.5f} {} '.format(keypoint_x_norm, keypoint_y_norm, 2) # 2-可见不遮挡 1-遮挡 0-没有点\n",
    "                    else: # 不存在的点，一律为0\n",
    "                        yolo_str += '{:.5f} {:.5f} {} '.format(0,0,0)\n",
    "                # 写入 txt 文件中\n",
    "                f.write(yolo_str + '\\n')\n",
    "                \n",
    "    shutil.move(yolo_txt_path, save_folder)\n",
    "    print('{} --> {} 转换完成'.format(labelme_path, yolo_txt_path))    "
   ]
  },
  {
   "cell_type": "markdown",
   "id": "8db18e73-840b-4075-bdb0-b818679ece19",
   "metadata": {},
   "source": [
    "## 转换训练集标注文件至`labels/train`目录"
   ]
  },
  {
   "cell_type": "code",
   "execution_count": 21,
   "id": "06c90b4d-cc48-4424-9795-74467d1f3e58",
   "metadata": {},
   "outputs": [],
   "source": [
    "os.chdir('json/train')"
   ]
  },
  {
   "cell_type": "code",
   "execution_count": 22,
   "id": "166948af-0194-46ad-98c2-9cc4f6771cb1",
   "metadata": {},
   "outputs": [
    {
     "name": "stdout",
     "output_type": "stream",
     "text": [
      "1_Color.json --> 1_Color.txt 转换完成\n",
      "3_Color.json --> 3_Color.txt 转换完成\n",
      "2_Color.json --> 2_Color.txt 转换完成\n",
      "YOLO格式的txt标注文件已保存至  ../../labels/new\n"
     ]
    }
   ],
   "source": [
    "save_folder = '../../labels/train'\n",
    "for labelme_path in os.listdir():\n",
    "    try:\n",
    "        process_single_json(labelme_path, save_folder=save_folder)\n",
    "    except:\n",
    "        print('******有误******', labelme_path)\n",
    "print('YOLO格式的txt标注文件已保存至 ', save_folder)"
   ]
  },
  {
   "cell_type": "code",
   "execution_count": 23,
   "id": "5ed297c2-e715-42c9-80ab-fd9e886c3385",
   "metadata": {},
   "outputs": [],
   "source": [
    "os.chdir('../../')"
   ]
  },
  {
   "cell_type": "markdown",
   "id": "82a4746c-8980-4763-b8b5-86b398f12b96",
   "metadata": {},
   "source": [
    "## 转换测试集标注文件至`labels/val`目录"
   ]
  },
  {
   "cell_type": "code",
   "execution_count": 24,
   "id": "46914ef6-f6a7-43a3-8270-0c5e40300c1f",
   "metadata": {},
   "outputs": [],
   "source": [
    "os.chdir('json/val')"
   ]
  },
  {
   "cell_type": "code",
   "execution_count": 25,
   "id": "20a6ca8c-e004-46d3-abdf-b786ba9fcea2",
   "metadata": {},
   "outputs": [],
   "source": [
    "save_folder = '../../labels/val'\n",
    "for labelme_path in os.listdir():\n",
    "    try:\n",
    "        process_single_json(labelme_path, save_folder=save_folder)\n",
    "    except:\n",
    "        print('******有误******', labelme_path)\n",
    "print('YOLO格式的txt标注文件已保存至 ', save_folder)"
   ]
  },
  {
   "cell_type": "code",
   "execution_count": 26,
   "id": "6874920e-c01d-4ff3-8e05-2462669000cb",
   "metadata": {},
   "outputs": [],
   "source": [
    "os.chdir('../../')"
   ]
  }
 ],
 "metadata": {
  "kernelspec": {
   "display_name": "Python 3.10.12 64-bit",
   "language": "python",
   "name": "python3"
  },
  "language_info": {
   "codemirror_mode": {
    "name": "ipython",
    "version": 3
   },
   "file_extension": ".py",
   "mimetype": "text/x-python",
   "name": "python",
   "nbconvert_exporter": "python",
   "pygments_lexer": "ipython3",
   "version": "3.8.13"
  },
  "vscode": {
   "interpreter": {
    "hash": "916dbcbb3f70747c44a77c7bcd40155683ae19c65e1c03b4aa3499c5328201f1"
   }
  }
 },
 "nbformat": 4,
 "nbformat_minor": 5
}
